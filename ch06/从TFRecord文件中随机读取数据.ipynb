{
 "cells": [
  {
   "cell_type": "code",
   "execution_count": 4,
   "metadata": {},
   "outputs": [
    {
     "name": "stdout",
     "output_type": "stream",
     "text": [
      "---第1批array---\n",
      "[array([[[[21., 22., 23.],\n",
      "         [24., 25., 26.]]],\n",
      "\n",
      "\n",
      "       [[[11., 12., 13.],\n",
      "         [14., 15., 16.]]]], dtype=float32)]\n",
      "---第2批array---\n",
      "[array([[[[ 1.,  2.,  3.],\n",
      "         [ 4.,  5.,  6.]]],\n",
      "\n",
      "\n",
      "       [[[11., 12., 13.],\n",
      "         [14., 15., 16.]]]], dtype=float32)]\n"
     ]
    }
   ],
   "source": [
    "import tensorflow as tf\n",
    "# 创建TFRecordReader对象\n",
    "epochs=2\n",
    "reader = tf.TFRecordReader()\n",
    "records_queue = tf.train.string_input_producer(['dataTest.tfrecord'], num_epochs=epochs)\n",
    "_,serialized_example = reader.read(records_queue)\n",
    "# 解析文件中的图像及其对应的标签\n",
    "features = tf.parse_single_example(\n",
    "serialized_example,\n",
    "features={\n",
    "    'array_raw':tf.FixedLenFeature([], tf.string)\n",
    "})\n",
    "\n",
    "# 解码二进制\n",
    "array_raw = features['array_raw']\n",
    "array_raw = tf.decode_raw(array_raw, tf.float32)\n",
    "array = tf.reshape(array_raw , [1,2,3])\n",
    "# 每次从文件中读取2个数据\n",
    "BatchSize = 2 # 不能大于文件中的数据的个数\n",
    "arrays = tf.train.shuffle_batch([array], BatchSize , 1000+3*BatchSize , 1000)\n",
    "# 创建会话\n",
    "session = tf.Session()\n",
    "session.run(tf.global_variables_initializer())\n",
    "session.run(tf.local_variables_initializer())\n",
    "coord = tf.train.Coordinator()\n",
    "threads = tf.train.start_queue_runners(sess=session,coord=coord)\n",
    "#循环2次, 从文件中随机读取\n",
    "for e in range(2):\n",
    "    arrs = session.run([arrays])\n",
    "    print('---第%(num)d批array---'%{'num':e+1})\n",
    "    print(arrs)\n",
    "\n",
    "    \n",
    "coord.request_stop()\n",
    "coord.join(threads)\n",
    "session.close()"
   ]
  }
 ],
 "metadata": {
  "kernelspec": {
   "display_name": "Python 3",
   "language": "python",
   "name": "python3"
  },
  "language_info": {
   "codemirror_mode": {
    "name": "ipython",
    "version": 3
   },
   "file_extension": ".py",
   "mimetype": "text/x-python",
   "name": "python",
   "nbconvert_exporter": "python",
   "pygments_lexer": "ipython3",
   "version": "3.7.7"
  }
 },
 "nbformat": 4,
 "nbformat_minor": 4
}
