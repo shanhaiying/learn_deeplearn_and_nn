{
 "cells": [
  {
   "cell_type": "code",
   "execution_count": 2,
   "metadata": {},
   "outputs": [
    {
     "name": "stdout",
     "output_type": "stream",
     "text": [
      "[0.19999999 0.5        0.29999998]\n"
     ]
    }
   ],
   "source": [
    "import tensorflow as tf\n",
    "#输入张量\n",
    "t=tf.constant([2,5,3] ,tf.float32)\n",
    "x=tf.log(t)\n",
    "#softmax处理\n",
    "s=tf.nn.softmax(x, 0)\n",
    "# 创建会话\n",
    "session = tf.Session()\n",
    "#打印结果\n",
    "print(session.run(s))"
   ]
  }
 ],
 "metadata": {
  "kernelspec": {
   "display_name": "Python 3",
   "language": "python",
   "name": "python3"
  },
  "language_info": {
   "codemirror_mode": {
    "name": "ipython",
    "version": 3
   },
   "file_extension": ".py",
   "mimetype": "text/x-python",
   "name": "python",
   "nbconvert_exporter": "python",
   "pygments_lexer": "ipython3",
   "version": "3.7.7"
  }
 },
 "nbformat": 4,
 "nbformat_minor": 4
}
