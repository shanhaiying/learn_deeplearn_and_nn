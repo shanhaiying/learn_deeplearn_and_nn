{
 "cells": [
  {
   "cell_type": "code",
   "execution_count": 6,
   "metadata": {
    "collapsed": true
   },
   "outputs": [
    {
     "name": "stdout",
     "output_type": "stream",
     "text": [
      "2.259788\n"
     ]
    }
   ],
   "source": [
    "import tensorflow as tf\n",
    "#假设_y为全连接神经网络的输出(输出层有3个神经元)\n",
    "_y=tf.constant([[0,2,-3] ,[4,-5,6]] ,tf.float32)\n",
    "# 人工分类结果\n",
    "y=tf.constant([[1,0,0] ,[0,0,1]], tf.float32)\n",
    "\n",
    "##-----------------\n",
    "# 自定义的softmax熵及损失函数\n",
    "#softmax熵\n",
    "_y_softmax=tf.nn.softmax(_y)\n",
    "entroy=tf.reduce_sum( -y * tf.log(_y_softmax) , 1)\n",
    "#损失函数\n",
    "loss=tf.reduce_sum(entroy)\n",
    "\n",
    "#tensorflow封装好的\n",
    "# loss = tf.reduce_sum(tf.nn.softmax_cross_entropy_with_logits_v2(logits=_y, labels=y))\n",
    "\n",
    "##---------------\n",
    "#创建会话\n",
    "session=tf.Session()\n",
    "#打印结果\n",
    "print(session.run(loss))"
   ]
  },
  {
   "attachments": {},
   "cell_type": "markdown",
   "metadata": {},
   "source": [
    "详见: softmax处理的全连接神经网络.png"
   ]
  }
 ],
 "metadata": {
  "kernelspec": {
   "display_name": "Python 3",
   "language": "python",
   "name": "python3"
  },
  "language_info": {
   "codemirror_mode": {
    "name": "ipython",
    "version": 3
   },
   "file_extension": ".py",
   "mimetype": "text/x-python",
   "name": "python",
   "nbconvert_exporter": "python",
   "pygments_lexer": "ipython3",
   "version": "3.7.7"
  }
 },
 "nbformat": 4,
 "nbformat_minor": 4
}
