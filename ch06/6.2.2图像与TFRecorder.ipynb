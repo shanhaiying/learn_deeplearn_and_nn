{
 "cells": [
  {
   "cell_type": "code",
   "execution_count": 4,
   "metadata": {},
   "outputs": [],
   "source": [
    "import os \n",
    "import matplotlib.image as mp_image\n",
    "import tensorflow as tf\n",
    "\n",
    "N=10\n",
    "for label in range(N):\n",
    "    record = tf.python_io.TFRecordWriter(os.path.curdir + '/data/' + 'data%(label)d.tfrecord'%{'label':label})\n",
    "    curDir = os.path.curdir + '/data/' + str(label) + '/'\n",
    "    fileList = os.listdir(curDir)\n",
    "    for name in fileList:\n",
    "        # 图片的路径和名称\n",
    "        imagePath = curDir + name\n",
    "        # 读取图片, 数字化为ndarray\n",
    "        image = mp_image.imread(imagePath)\n",
    "        # 将ndarray 二进制化\n",
    "        img_raw = image.tostring()\n",
    "        feature = {\n",
    "            'img_raw': tf.train.Feature(bytes_list=tf.train.BytesList(value=[img_raw])),\n",
    "            'label':tf.train.Feature(int64_list=tf.train.Int64List(value=[label]))\n",
    "        }\n",
    "        features = tf.train.Features(feature=feature)\n",
    "        example = tf.train.Example(features=features)\n",
    "        # 字符串序列化后,写入文件\n",
    "        record.write(example.SerializeToString())\n",
    "        \n",
    "# 关闭文件流\n",
    "record.close()"
   ]
  }
 ],
 "metadata": {
  "kernelspec": {
   "display_name": "Python 3",
   "language": "python",
   "name": "python3"
  },
  "language_info": {
   "codemirror_mode": {
    "name": "ipython",
    "version": 3
   },
   "file_extension": ".py",
   "mimetype": "text/x-python",
   "name": "python",
   "nbconvert_exporter": "python",
   "pygments_lexer": "ipython3",
   "version": "3.7.7"
  }
 },
 "nbformat": 4,
 "nbformat_minor": 4
}
