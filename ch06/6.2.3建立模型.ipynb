{
 "cells": [
  {
   "cell_type": "code",
   "execution_count": 5,
   "metadata": {},
   "outputs": [
    {
     "name": "stdout",
     "output_type": "stream",
     "text": [
      "[[ -3.130371    6.881544   -4.5920663 -30.652863   -5.5044184   5.751331\n",
      "   -7.02819    11.427192   -2.4279666  -7.2217646]]\n"
     ]
    }
   ],
   "source": [
    "import tensorflow as tf\n",
    "#构建全连接神经网络\n",
    "def net(tensor):\n",
    "    # 输入层, 隐含层, 输出层的神经元个数\n",
    "    I, H1, O = 784, 200, 10\n",
    "    #第一层的权重矩阵和偏置\n",
    "    w1=tf.random_normal([I ,H1] ,0, 1, tf.float32)\n",
    "    b1=tf.random_normal([H1] ,0, 1, tf.float32)\n",
    "    #隐含层的结果, 采用sigmoid激活函数\n",
    "    l1 = tf.matmul(tensor, w1) + b1\n",
    "    sigma1 = tf.nn.sigmoid(l1)\n",
    "    #第2层的权重矩阵和偏置\n",
    "    w2=tf.random_normal([H1 ,O] ,0, 1, tf.float32)\n",
    "    b2=tf.random_normal([O] ,0, 1, tf.float32)\n",
    "    # 输出层的结果\n",
    "    l2 = tf.matmul(sigma1, w2) + b2\n",
    "    return l2\n",
    "\n",
    "# 读取图片文件\n",
    "image = tf.read_file('0.jpg','r')\n",
    "# 将图片文件解码为Tensor\n",
    "image_tensor=tf.image.decode_jpeg(image)\n",
    "#图像张量的形状\n",
    "length=tf.size(image_tensor) # length=28*28\n",
    "# 改变形状, 拉伸为1个一维张量, 按行存储\n",
    "t = tf.reshape(image_tensor , [1, length])\n",
    "#数据类型转换, 转换为float32类型\n",
    "t=tf.cast(t,tf.float32)\n",
    "# 标签化处理\n",
    "t=t/255.0\n",
    "# 将其输入定义为2层全连接神经网络\n",
    "output=net(t)\n",
    "session=tf.Session()\n",
    "#打印结果\n",
    "print(session.run(output))"
   ]
  }
 ],
 "metadata": {
  "kernelspec": {
   "display_name": "Python 3",
   "language": "python",
   "name": "python3"
  },
  "language_info": {
   "codemirror_mode": {
    "name": "ipython",
    "version": 3
   },
   "file_extension": ".py",
   "mimetype": "text/x-python",
   "name": "python",
   "nbconvert_exporter": "python",
   "pygments_lexer": "ipython3",
   "version": "3.7.7"
  }
 },
 "nbformat": 4,
 "nbformat_minor": 4
}
