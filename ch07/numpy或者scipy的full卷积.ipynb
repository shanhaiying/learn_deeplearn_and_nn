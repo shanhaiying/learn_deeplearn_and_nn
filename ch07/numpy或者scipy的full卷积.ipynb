{
 "cells": [
  {
   "cell_type": "code",
   "execution_count": 2,
   "metadata": {},
   "outputs": [
    {
     "name": "stdout",
     "output_type": "stream",
     "text": [
      "[  3.  10.   3.  -4.  10.   1. -17.  -6.]\n"
     ]
    }
   ],
   "source": [
    "import numpy as np\n",
    "# from scipy import signal\n",
    "I=np.array([3,4,1,5,6] ,np.float32)\n",
    "K=np.array([-1,-2,2,1] ,np.float32)\n",
    "#卷积核K翻转180度\n",
    "K_reverse = np.flip(K,0)\n",
    "r = np.convolve(I,K_reverse,mode='full')\n",
    "# r=signal.convolve(I,K_reverse,mode='full')\n",
    "print(r)"
   ]
  }
 ],
 "metadata": {
  "kernelspec": {
   "display_name": "Python 3",
   "language": "python",
   "name": "python3"
  },
  "language_info": {
   "codemirror_mode": {
    "name": "ipython",
    "version": 3
   },
   "file_extension": ".py",
   "mimetype": "text/x-python",
   "name": "python",
   "nbconvert_exporter": "python",
   "pygments_lexer": "ipython3",
   "version": "3.7.7"
  }
 },
 "nbformat": 4,
 "nbformat_minor": 4
}
