{
 "cells": [
  {
   "cell_type": "code",
   "execution_count": 3,
   "metadata": {},
   "outputs": [
    {
     "name": "stdout",
     "output_type": "stream",
     "text": [
      "水平镜像的结果:\n",
      " [[4. 5. 6.]\n",
      " [1. 2. 3.]]\n",
      "垂直镜像的结果:\n",
      " [[3. 2. 1.]\n",
      " [6. 5. 4.]]\n",
      "逆时针翻转180度的结果:\n",
      " [[6. 5. 4.]\n",
      " [3. 2. 1.]]\n"
     ]
    }
   ],
   "source": [
    "import tensorflow as tf\n",
    "#二维张量\n",
    "t=tf.constant([[1,2,3] ,[4,5,6]], tf.float32)\n",
    "#水平镜像\n",
    "rh=tf.reverse(t,axis=[0])\n",
    "#垂直镜像\n",
    "rv=tf.reverse(t,axis=[1])\n",
    "#逆时针翻转180度, 先水平再垂直(或者先垂直再水平)\n",
    "r=tf.reverse(t, axis=[0,1])\n",
    "session=tf.Session()\n",
    "print('水平镜像的结果:\\n', session.run(rh))\n",
    "print('垂直镜像的结果:\\n', session.run(rv))\n",
    "print('逆时针翻转180度的结果:\\n', session.run(r))"
   ]
  }
 ],
 "metadata": {
  "kernelspec": {
   "display_name": "Python 3",
   "language": "python",
   "name": "python3"
  },
  "language_info": {
   "codemirror_mode": {
    "name": "ipython",
    "version": 3
   },
   "file_extension": ".py",
   "mimetype": "text/x-python",
   "name": "python",
   "nbconvert_exporter": "python",
   "pygments_lexer": "ipython3",
   "version": "3.7.7"
  }
 },
 "nbformat": 4,
 "nbformat_minor": 4
}
