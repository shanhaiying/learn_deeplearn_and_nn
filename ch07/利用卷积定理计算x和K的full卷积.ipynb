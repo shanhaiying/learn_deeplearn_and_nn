{
 "cells": [
  {
   "cell_type": "markdown",
   "metadata": {},
   "source": [
    "# 利用卷积定理可以有效地加速计算卷积"
   ]
  },
  {
   "cell_type": "code",
   "execution_count": 3,
   "metadata": {},
   "outputs": [
    {
     "name": "stdout",
     "output_type": "stream",
     "text": [
      "[ -2.9999998 -10.         -3.          4.        -10.         -1.\n",
      "  17.          6.       ]\n"
     ]
    }
   ],
   "source": [
    "import tensorflow as tf\n",
    "#长度为5的输入张量\n",
    "I=tf.constant([3,4,1,5,6] , tf.complex64)\n",
    "#长度为4个卷积核\n",
    "K=tf.constant([1,2,-2,-1] , tf.complex64)\n",
    "#补0操作\n",
    "I_padded=tf.pad(I,[[0,3]])\n",
    "#将卷积核翻转180度\n",
    "K_rotate180 = tf.reverse(K, axis=[0])\n",
    "#翻转后进行补0操作\n",
    "K_roate180_padded=tf.pad(K_rotate180,[[0,4]])\n",
    "\n",
    "#傅立叶变换\n",
    "I_padded_fft = tf.fft(I_padded)\n",
    "K_roate180_padded_fft = tf.fft(K_roate180_padded)\n",
    "\n",
    "#将以上两个傅立叶变换点乘操作\n",
    "Ik_fft=tf.multiply(I_padded_fft, K_roate180_padded_fft)\n",
    "\n",
    "# 傅立叶逆变换\n",
    "Ik=tf.ifft(Ik_fft)\n",
    "#因为输入的张量和卷积核都是实数 ,对以上傅立叶逆变换进行取实部的操作\n",
    "Ik_real = tf.real(Ik)\n",
    "session=tf.Session()\n",
    "\n",
    "print(session.run(Ik_real))"
   ]
  }
 ],
 "metadata": {
  "kernelspec": {
   "display_name": "Python 3",
   "language": "python",
   "name": "python3"
  },
  "language_info": {
   "codemirror_mode": {
    "name": "ipython",
    "version": 3
   },
   "file_extension": ".py",
   "mimetype": "text/x-python",
   "name": "python",
   "nbconvert_exporter": "python",
   "pygments_lexer": "ipython3",
   "version": "3.7.7"
  }
 },
 "nbformat": 4,
 "nbformat_minor": 4
}
