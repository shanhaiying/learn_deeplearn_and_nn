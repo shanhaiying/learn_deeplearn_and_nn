{
 "cells": [
  {
   "cell_type": "code",
   "execution_count": 3,
   "metadata": {},
   "outputs": [
    {
     "name": "stdout",
     "output_type": "stream",
     "text": [
      "傅立叶变换F的值:\n",
      "[15.       -5.9604645e-08j -1.4999998+8.6602545e-01j\n",
      " -1.4999999-8.6602563e-01j]\n",
      "打印F的傅立叶逆变换的值(显然与输入的f是相等的):\n",
      "[4.+3.9736431e-08j 5.-3.1789145e-07j 6.+0.0000000e+00j]\n"
     ]
    }
   ],
   "source": [
    "import tensorflow as tf\n",
    "#输入长度为3的一维张量\n",
    "f=tf.constant([4,5,6] , tf.complex64)\n",
    "#创建会话\n",
    "session=tf.Session()\n",
    "#一维傅立叶变换\n",
    "F=tf.fft(f)\n",
    "#打印傅立叶变换F的值\n",
    "print(\"傅立叶变换F的值:\")\n",
    "print(session.run(F))\n",
    "#计算F的傅立叶逆变换(显然与输入的f是相等的)\n",
    "F_ifft=tf.ifft(F)\n",
    "print(\"打印F的傅立叶逆变换的值(显然与输入的f是相等的):\")\n",
    "print(session.run(F_ifft))"
   ]
  }
 ],
 "metadata": {
  "kernelspec": {
   "display_name": "Python 3",
   "language": "python",
   "name": "python3"
  },
  "language_info": {
   "codemirror_mode": {
    "name": "ipython",
    "version": 3
   },
   "file_extension": ".py",
   "mimetype": "text/x-python",
   "name": "python",
   "nbconvert_exporter": "python",
   "pygments_lexer": "ipython3",
   "version": "3.7.7"
  }
 },
 "nbformat": 4,
 "nbformat_minor": 4
}
