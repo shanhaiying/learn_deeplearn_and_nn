{
 "cells": [
  {
   "cell_type": "code",
   "execution_count": 2,
   "metadata": {},
   "outputs": [
    {
     "name": "stdout",
     "output_type": "stream",
     "text": [
      "(-2.0, 2.0)\n",
      "(-1.0, 1.0)\n"
     ]
    }
   ],
   "source": [
    "import tensorflow as tf\n",
    "# 梯度下降的初始点\n",
    "x1=tf.Variable(-4.0, dtype=tf.float32)\n",
    "x2=tf.Variable(4.0, dtype=tf.float32)\n",
    "# 自己的函数\n",
    "y=tf.square(x1)+tf.square(x2)\n",
    "#创建会话\n",
    "session=tf.Session()\n",
    "session.run(tf.global_variables_initializer())\n",
    "\n",
    "#梯度下降, 设置步长为0.25\n",
    "opti=tf.train.GradientDescentOptimizer(0.25).minimize(y)\n",
    "#2次迭代\n",
    "for i in range(2):\n",
    "    session.run(opti)\n",
    "    #打印每次迭代的值\n",
    "    print((session.run(x1), session.run(x2)))"
   ]
  }
 ],
 "metadata": {
  "kernelspec": {
   "display_name": "Python 3",
   "language": "python",
   "name": "python3"
  },
  "language_info": {
   "codemirror_mode": {
    "name": "ipython",
    "version": 3
   },
   "file_extension": ".py",
   "mimetype": "text/x-python",
   "name": "python",
   "nbconvert_exporter": "python",
   "pygments_lexer": "ipython3",
   "version": "3.7.7"
  }
 },
 "nbformat": 4,
 "nbformat_minor": 4
}
