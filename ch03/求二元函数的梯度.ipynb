{
 "cells": [
  {
   "cell_type": "code",
   "execution_count": 3,
   "metadata": {},
   "outputs": [
    {
     "name": "stdout",
     "output_type": "stream",
     "text": [
      "[array([[108.],\n",
      "       [144.]], dtype=float32)]\n"
     ]
    }
   ],
   "source": [
    "import tensorflow as tf\n",
    "import numpy as np\n",
    "# 将自变量声明为一个占位符\n",
    "x=tf.placeholder(tf.float32,(2,1))\n",
    "\n",
    "#利用矩阵乘法matmul实现\n",
    "w=tf.constant([[3,4]] ,tf.float32)\n",
    "y=tf.matmul(w,x)\n",
    "\n",
    "#求上述和的平方, 构造出函数F\n",
    "F=tf.pow(y,2)\n",
    "#利用函数gradients计算F在(2,3)处的梯度\n",
    "grads=tf.gradients(F,x)\n",
    "session=tf.Session()\n",
    "#打印梯度值\n",
    "print(session.run(grads ,{x:np.array([[2],[3]])}))\n"
   ]
  }
 ],
 "metadata": {
  "kernelspec": {
   "display_name": "Python 3",
   "language": "python",
   "name": "python3"
  },
  "language_info": {
   "codemirror_mode": {
    "name": "ipython",
    "version": 3
   },
   "file_extension": ".py",
   "mimetype": "text/x-python",
   "name": "python",
   "nbconvert_exporter": "python",
   "pygments_lexer": "ipython3",
   "version": "3.7.7"
  }
 },
 "nbformat": 4,
 "nbformat_minor": 4
}
