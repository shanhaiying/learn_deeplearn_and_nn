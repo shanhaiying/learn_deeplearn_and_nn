{
 "cells": [
  {
   "cell_type": "code",
   "execution_count": 21,
   "metadata": {},
   "outputs": [
    {
     "name": "stdout",
     "output_type": "stream",
     "text": [
      "第1次的迭代值\n",
      "[[3.99]\n",
      " [2.99]]\n",
      "第2次的迭代值\n",
      "[[3.9800007]\n",
      " [2.980001 ]]\n",
      "第3次的迭代值\n",
      "[[3.9700027]\n",
      " [2.9700034]]\n"
     ]
    }
   ],
   "source": [
    "import tensorflow as tf\n",
    "# 梯度下降的初始点\n",
    "x=tf.Variable(tf.constant([[4],[3]],tf.float32), tf.float32)\n",
    "w=tf.constant([[1,2]],tf.float32)\n",
    "# 自己的函数\n",
    "y=tf.reduce_sum(tf.matmul(w,tf.square(x)))\n",
    "\n",
    "#梯度下降, 设置步长为0.25\n",
    "\n",
    "# 标准的梯度下降法\n",
    "#opti=tf.train.GradientDescentOptimizer(0.25).minimize(y)\n",
    "# Adagrad梯度下降\n",
    "#opti=tf.train.AdagradOptimizer(0.25,0.1).minimize(y)\n",
    "# Momentum梯度下降法\n",
    "#opti=tf.train.MomentumOptimizer(0.01,0.9).minimize(y)\n",
    "\n",
    "# Nesterov梯度下降法\n",
    "#opti=tf.train.MomentumOptimizer(0.01,0.9,use_nesterov=True).minimize(y)\n",
    "\n",
    "# RMSProp梯度下降法\n",
    "#opti=tf.train.RMSPropOptimizer(learning_rate=0.01, decay=0.9,epsilon=1e-10).minimize(y)\n",
    "\n",
    "# 具备动量的RMSProp梯度下降法\n",
    "#opti=tf.train.RMSPropOptimizer(learning_rate=0.01, decay=0.9,momentum=0.9,epsilon=1e-10).minimize(y)\n",
    "\n",
    "# Adadelta法 \n",
    "#opti=tf.train.AdadeltaOptimizer(learning_rate=0.01, rho=0.95,epsilon=1e-8).minimize(y)\n",
    "\n",
    "# Adam法\n",
    "opti=tf.train.AdamOptimizer(learning_rate=0.01, beta1=0.9, beta2=0.999,epsilon=1e-8).minimize(y)\n",
    "\n",
    "#创建会话\n",
    "session=tf.Session()\n",
    "session.run(tf.global_variables_initializer())\n",
    "\n",
    "\n",
    "#2次迭代\n",
    "for i in range(3):\n",
    "    session.run(opti)\n",
    "    #打印每次迭代的值\n",
    "    print('第%d次的迭代值'%(i+1))\n",
    "    print(session.run(x))"
   ]
  }
 ],
 "metadata": {
  "kernelspec": {
   "display_name": "Python 3",
   "language": "python",
   "name": "python3"
  },
  "language_info": {
   "codemirror_mode": {
    "name": "ipython",
    "version": 3
   },
   "file_extension": ".py",
   "mimetype": "text/x-python",
   "name": "python",
   "nbconvert_exporter": "python",
   "pygments_lexer": "ipython3",
   "version": "3.7.7"
  }
 },
 "nbformat": 4,
 "nbformat_minor": 4
}
