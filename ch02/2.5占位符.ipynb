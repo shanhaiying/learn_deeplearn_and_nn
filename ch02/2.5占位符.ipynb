{
 "cells": [
  {
   "cell_type": "code",
   "execution_count": 3,
   "metadata": {},
   "outputs": [
    {
     "name": "stdout",
     "output_type": "stream",
     "text": [
      "[[ 4.  5.]\n",
      " [10. 11.]\n",
      " [16. 17.]]\n",
      "[[3.]\n",
      " [5.]\n",
      " [7.]]\n"
     ]
    }
   ],
   "source": [
    "import tensorflow as tf\n",
    "import numpy as np\n",
    "#占位符\n",
    "x=tf.placeholder(tf.float32,[2,None],name='x')\n",
    "#3行2列的矩阵\n",
    "w=tf.constant(\n",
    "    [\n",
    "        [1,2],\n",
    "        [3,4],\n",
    "        [5,6]\n",
    "    ]\n",
    ",tf.float32)\n",
    "\n",
    "#矩阵相乘\n",
    "y=tf.matmul(w,x)\n",
    "\n",
    "session=tf.Session()\n",
    "# 令x为2行2列的矩阵\n",
    "result1=session.run(y, feed_dict={x:np.array([[2,1],[1,2]], np.float32)})\n",
    "print(result1)\n",
    "\n",
    "\n",
    "# 令x为2行2列的矩阵\n",
    "result2=session.run(y, feed_dict={x:np.array([[-1],[2]], np.float32)})\n",
    "print(result2)"
   ]
  }
 ],
 "metadata": {
  "kernelspec": {
   "display_name": "Python 3",
   "language": "python",
   "name": "python3"
  },
  "language_info": {
   "codemirror_mode": {
    "name": "ipython",
    "version": 3
   },
   "file_extension": ".py",
   "mimetype": "text/x-python",
   "name": "python",
   "nbconvert_exporter": "python",
   "pygments_lexer": "ipython3",
   "version": "3.7.7"
  }
 },
 "nbformat": 4,
 "nbformat_minor": 4
}
