{
 "cells": [
  {
   "cell_type": "code",
   "execution_count": 11,
   "metadata": {},
   "outputs": [
    {
     "name": "stdout",
     "output_type": "stream",
     "text": [
      "[[ 30. 102.]\n",
      " [ 70. 262.]\n",
      " [110. 422.]\n",
      " [150. 582.]]\n"
     ]
    }
   ],
   "source": [
    "import tensorflow as tf\n",
    "import numpy as np\n",
    "# 输入层: 每一个输入按行存储\n",
    "x=tf.placeholder(tf.float32,(None, 2))\n",
    "\n",
    "# 第一层的权重矩阵\n",
    "w1=tf.constant([\n",
    "    [1,4,7],\n",
    "    [2,6,8]\n",
    "] ,tf.float32)\n",
    "\n",
    "# 第一层的偏置\n",
    "b1=tf.constant([-4,2,1] ,tf.float32)\n",
    "\n",
    "# 计算第1层的线性组合\n",
    "l1=tf.matmul(x,w1) + b1\n",
    "\n",
    "# 激活 2*x\n",
    "sigma1 = 2* l1\n",
    "#第2层的权重矩阵\n",
    "w2=tf.constant([\n",
    "    [2,3],\n",
    "    [1,-2],\n",
    "    [-1,1]\n",
    "] ,tf.float32)\n",
    "\n",
    "# 第2层的偏置\n",
    "b2=tf.constant([5,-3],tf.float32)\n",
    "\n",
    "# 计算第1层的线性组合\n",
    "l2=tf.matmul(sigma1,w2) + b2\n",
    "#激活 2*x\n",
    "sigma2 = 2*l2\n",
    "#创建会话\n",
    "session=tf.Session()\n",
    "# 4个输入\n",
    "print(session.run(sigma2 ,{x:np.array([\n",
    "    [10,11],\n",
    "    [20,21],\n",
    "    [30,31],\n",
    "    [40,41]\n",
    "] , np.float32)}))"
   ]
  }
 ],
 "metadata": {
  "kernelspec": {
   "display_name": "Python 3",
   "language": "python",
   "name": "python3"
  },
  "language_info": {
   "codemirror_mode": {
    "name": "ipython",
    "version": 3
   },
   "file_extension": ".py",
   "mimetype": "text/x-python",
   "name": "python",
   "nbconvert_exporter": "python",
   "pygments_lexer": "ipython3",
   "version": "3.7.7"
  }
 },
 "nbformat": 4,
 "nbformat_minor": 4
}
