{
 "cells": [
  {
   "cell_type": "code",
   "execution_count": 2,
   "metadata": {},
   "outputs": [
    {
     "name": "stdout",
     "output_type": "stream",
     "text": [
      "----针对sigma的梯度----\n",
      "[[[[1.]\n",
      "   [1.]]\n",
      "\n",
      "  [[1.]\n",
      "   [1.]]]]\n",
      "----针对x的梯度----\n",
      "[[[[0.25]\n",
      "   [0.5 ]\n",
      "   [0.25]]\n",
      "\n",
      "  [[0.5 ]\n",
      "   [1.  ]\n",
      "   [0.5 ]]\n",
      "\n",
      "  [[0.25]\n",
      "   [0.5 ]\n",
      "   [0.25]]]]\n"
     ]
    }
   ],
   "source": [
    "import tensorflow as tf\n",
    "import numpy as np\n",
    "#x是1个3行3列1深度的张量\n",
    "x=tf.placeholder(tf.float32,(1,3,3,1))\n",
    "# 2x2的掩码， 步长是（1,1,1,1)的valid平均值池化操作\n",
    "sigma=tf.nn.avg_pool(x,(1,2,2,1),(1,1,1,1),'VALID')\n",
    "#利用上述池化操作的结果， 构造一个函数F, 池化结果的和\n",
    "F=tf.reduce_sum(sigma)\n",
    "session=tf.Session()\n",
    "#分别计算F在某一点xvalue处针对sigma和x的梯度\n",
    "xvalue=np.random.randn(1,3,3,1)\n",
    "grad=tf.gradients(F,[sigma,x])\n",
    "results=session.run(grad,{x:xvalue})\n",
    "#打印结果\n",
    "print(\"----针对sigma的梯度----\")\n",
    "print(results[0])\n",
    "print(\"----针对x的梯度----\")\n",
    "print(results[1])"
   ]
  }
 ],
 "metadata": {
  "kernelspec": {
   "display_name": "Python 3",
   "language": "python",
   "name": "python3"
  },
  "language_info": {
   "codemirror_mode": {
    "name": "ipython",
    "version": 3
   },
   "file_extension": ".py",
   "mimetype": "text/x-python",
   "name": "python",
   "nbconvert_exporter": "python",
   "pygments_lexer": "ipython3",
   "version": "3.7.7"
  }
 },
 "nbformat": 4,
 "nbformat_minor": 4
}
