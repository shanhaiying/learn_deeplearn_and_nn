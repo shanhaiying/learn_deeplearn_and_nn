{
 "cells": [
  {
   "cell_type": "code",
   "execution_count": 3,
   "metadata": {},
   "outputs": [
    {
     "name": "stdout",
     "output_type": "stream",
     "text": [
      "INFO:tensorflow:Restoring parameters from ./modelMul.ckpt\n",
      "[11. 12. 13.]\n",
      "[21. 22.]\n",
      "[101. 102.]\n",
      "2.0\n"
     ]
    }
   ],
   "source": [
    "import tensorflow as tf\n",
    "# 使用字典类管理变量\n",
    "weights = {\n",
    "    'w1':tf.Variable([110,120,130],dtype=tf.float32,name='v1'),\n",
    "    'w2':tf.Variable([210,220],dtype=tf.float32, name='v2')\n",
    "}\n",
    "\n",
    "bias={\n",
    "    'b1':tf.Variable([1010,1020],dtype=tf.float32,name='b1'),\n",
    "    'b2':tf.Variable(20,dtype=tf.float32,name='b2')\n",
    "}\n",
    "\n",
    "session=tf.Session()\n",
    "\n",
    "saver = tf.train.Saver()\n",
    "\n",
    "with tf.Session() as sess:\n",
    "    \n",
    "    #加载modelMul.ckpt文件\n",
    "    saver.restore(sess,'./modelMul.ckpt')\n",
    "    #打印值\n",
    "    print(sess.run(weights['w1']))\n",
    "    print(sess.run(weights['w2']))\n",
    "    print(sess.run(bias['b1']))\n",
    "    print(sess.run(bias['b2']))\n",
    "    \n",
    "sess.close()"
   ]
  }
 ],
 "metadata": {
  "kernelspec": {
   "display_name": "Python 3",
   "language": "python",
   "name": "python3"
  },
  "language_info": {
   "codemirror_mode": {
    "name": "ipython",
    "version": 3
   },
   "file_extension": ".py",
   "mimetype": "text/x-python",
   "name": "python",
   "nbconvert_exporter": "python",
   "pygments_lexer": "ipython3",
   "version": "3.7.7"
  }
 },
 "nbformat": 4,
 "nbformat_minor": 4
}
