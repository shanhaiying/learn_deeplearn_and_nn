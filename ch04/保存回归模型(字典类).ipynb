{
 "cells": [
  {
   "cell_type": "code",
   "execution_count": 2,
   "metadata": {},
   "outputs": [],
   "source": [
    "import tensorflow as tf\n",
    "# 使用字典类管理变量\n",
    "weights = {\n",
    "    'w1':tf.Variable([11,12,13],dtype=tf.float32,name='v1'),\n",
    "    'w2':tf.Variable([21,22],dtype=tf.float32, name='v2')\n",
    "}\n",
    "\n",
    "bias={\n",
    "    'b1':tf.Variable([101,102],dtype=tf.float32,name='b1'),\n",
    "    'b2':tf.Variable(2,dtype=tf.float32,name='b2')\n",
    "}\n",
    "\n",
    "session=tf.Session()\n",
    "\n",
    "saver = tf.train.Saver()\n",
    "\n",
    "with tf.Session() as sess:\n",
    "    # 变量初始化\n",
    "    sess.run(tf.global_variables_initializer())\n",
    "    # 将变量保存到当前文件夹下的modelMul.ckpt文件中\n",
    "    saver.save(sess, './modelMul.ckpt')\n",
    "    \n",
    "sess.close()"
   ]
  }
 ],
 "metadata": {
  "kernelspec": {
   "display_name": "Python 3",
   "language": "python",
   "name": "python3"
  },
  "language_info": {
   "codemirror_mode": {
    "name": "ipython",
    "version": 3
   },
   "file_extension": ".py",
   "mimetype": "text/x-python",
   "name": "python",
   "nbconvert_exporter": "python",
   "pygments_lexer": "ipython3",
   "version": "3.7.7"
  }
 },
 "nbformat": 4,
 "nbformat_minor": 4
}
