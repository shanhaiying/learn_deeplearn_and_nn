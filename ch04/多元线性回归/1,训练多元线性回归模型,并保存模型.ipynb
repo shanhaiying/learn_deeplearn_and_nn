{
 "cells": [
  {
   "cell_type": "code",
   "execution_count": 1,
   "metadata": {},
   "outputs": [
    {
     "name": "stderr",
     "output_type": "stream",
     "text": [
      "E:\\ProgramData\\Anaconda3_1\\envs\\tensorflow-1-5\\lib\\site-packages\\tensorflow\\python\\framework\\dtypes.py:516: FutureWarning: Passing (type, 1) or '1type' as a synonym of type is deprecated; in a future version of numpy, it will be understood as (type, (1,)) / '(1,)type'.\n",
      "  _np_qint8 = np.dtype([(\"qint8\", np.int8, 1)])\n",
      "E:\\ProgramData\\Anaconda3_1\\envs\\tensorflow-1-5\\lib\\site-packages\\tensorflow\\python\\framework\\dtypes.py:517: FutureWarning: Passing (type, 1) or '1type' as a synonym of type is deprecated; in a future version of numpy, it will be understood as (type, (1,)) / '(1,)type'.\n",
      "  _np_quint8 = np.dtype([(\"quint8\", np.uint8, 1)])\n",
      "E:\\ProgramData\\Anaconda3_1\\envs\\tensorflow-1-5\\lib\\site-packages\\tensorflow\\python\\framework\\dtypes.py:518: FutureWarning: Passing (type, 1) or '1type' as a synonym of type is deprecated; in a future version of numpy, it will be understood as (type, (1,)) / '(1,)type'.\n",
      "  _np_qint16 = np.dtype([(\"qint16\", np.int16, 1)])\n",
      "E:\\ProgramData\\Anaconda3_1\\envs\\tensorflow-1-5\\lib\\site-packages\\tensorflow\\python\\framework\\dtypes.py:519: FutureWarning: Passing (type, 1) or '1type' as a synonym of type is deprecated; in a future version of numpy, it will be understood as (type, (1,)) / '(1,)type'.\n",
      "  _np_quint16 = np.dtype([(\"quint16\", np.uint16, 1)])\n",
      "E:\\ProgramData\\Anaconda3_1\\envs\\tensorflow-1-5\\lib\\site-packages\\tensorflow\\python\\framework\\dtypes.py:520: FutureWarning: Passing (type, 1) or '1type' as a synonym of type is deprecated; in a future version of numpy, it will be understood as (type, (1,)) / '(1,)type'.\n",
      "  _np_qint32 = np.dtype([(\"qint32\", np.int32, 1)])\n",
      "E:\\ProgramData\\Anaconda3_1\\envs\\tensorflow-1-5\\lib\\site-packages\\tensorflow\\python\\framework\\dtypes.py:525: FutureWarning: Passing (type, 1) or '1type' as a synonym of type is deprecated; in a future version of numpy, it will be understood as (type, (1,)) / '(1,)type'.\n",
      "  np_resource = np.dtype([(\"resource\", np.ubyte, 1)])\n",
      "E:\\ProgramData\\Anaconda3_1\\envs\\tensorflow-1-5\\lib\\site-packages\\tensorboard\\compat\\tensorflow_stub\\dtypes.py:541: FutureWarning: Passing (type, 1) or '1type' as a synonym of type is deprecated; in a future version of numpy, it will be understood as (type, (1,)) / '(1,)type'.\n",
      "  _np_qint8 = np.dtype([(\"qint8\", np.int8, 1)])\n",
      "E:\\ProgramData\\Anaconda3_1\\envs\\tensorflow-1-5\\lib\\site-packages\\tensorboard\\compat\\tensorflow_stub\\dtypes.py:542: FutureWarning: Passing (type, 1) or '1type' as a synonym of type is deprecated; in a future version of numpy, it will be understood as (type, (1,)) / '(1,)type'.\n",
      "  _np_quint8 = np.dtype([(\"quint8\", np.uint8, 1)])\n",
      "E:\\ProgramData\\Anaconda3_1\\envs\\tensorflow-1-5\\lib\\site-packages\\tensorboard\\compat\\tensorflow_stub\\dtypes.py:543: FutureWarning: Passing (type, 1) or '1type' as a synonym of type is deprecated; in a future version of numpy, it will be understood as (type, (1,)) / '(1,)type'.\n",
      "  _np_qint16 = np.dtype([(\"qint16\", np.int16, 1)])\n",
      "E:\\ProgramData\\Anaconda3_1\\envs\\tensorflow-1-5\\lib\\site-packages\\tensorboard\\compat\\tensorflow_stub\\dtypes.py:544: FutureWarning: Passing (type, 1) or '1type' as a synonym of type is deprecated; in a future version of numpy, it will be understood as (type, (1,)) / '(1,)type'.\n",
      "  _np_quint16 = np.dtype([(\"quint16\", np.uint16, 1)])\n",
      "E:\\ProgramData\\Anaconda3_1\\envs\\tensorflow-1-5\\lib\\site-packages\\tensorboard\\compat\\tensorflow_stub\\dtypes.py:545: FutureWarning: Passing (type, 1) or '1type' as a synonym of type is deprecated; in a future version of numpy, it will be understood as (type, (1,)) / '(1,)type'.\n",
      "  _np_qint32 = np.dtype([(\"qint32\", np.int32, 1)])\n",
      "E:\\ProgramData\\Anaconda3_1\\envs\\tensorflow-1-5\\lib\\site-packages\\tensorboard\\compat\\tensorflow_stub\\dtypes.py:550: FutureWarning: Passing (type, 1) or '1type' as a synonym of type is deprecated; in a future version of numpy, it will be understood as (type, (1,)) / '(1,)type'.\n",
      "  np_resource = np.dtype([(\"resource\", np.ubyte, 1)])\n"
     ]
    },
    {
     "name": "stdout",
     "output_type": "stream",
     "text": [
      "-----\"第\"0\"次的迭代值\"------\n",
      "[array([[1.95],\n",
      "       [1.99]], dtype=float32), 1.41]\n",
      "-----\"第\"100\"次的迭代值\"------\n",
      "[array([[ 2.9388034],\n",
      "       [-0.6417622]], dtype=float32), 7.5024066]\n",
      "-----\"第\"200\"次的迭代值\"------\n",
      "[array([[ 2.1817584 ],\n",
      "       [-0.35411417]], dtype=float32), 8.839961]\n",
      "-----\"第\"300\"次的迭代值\"------\n",
      "[array([[ 1.8715947 ],\n",
      "       [-0.22765213]], dtype=float32), 9.346234]\n",
      "-----\"第\"400\"次的迭代值\"------\n",
      "[array([[ 1.750861 ],\n",
      "       [-0.1783222]], dtype=float32), 9.542803]\n",
      "-----\"第\"500\"次的迭代值\"------\n",
      "[array([[ 1.7042251],\n",
      "       [-0.1592657]], dtype=float32), 9.618724]\n",
      "WARNING:tensorflow:From E:\\ProgramData\\Anaconda3_1\\envs\\tensorflow-1-5\\lib\\site-packages\\tensorflow\\python\\training\\saver.py:960: remove_checkpoint (from tensorflow.python.training.checkpoint_management) is deprecated and will be removed in a future version.\n",
      "Instructions for updating:\n",
      "Use standard file APIs to delete files with this prefix.\n"
     ]
    },
    {
     "data": {
      "image/png": "[encoded data removed]",
      "text/plain": [
       "<Figure size 432x288 with 1 Axes>"
      ]
     },
     "metadata": {
      "needs_background": "light"
     },
     "output_type": "display_data"
    }
   ],
   "source": [
    "import tensorflow as tf\n",
    "import matplotlib.pyplot as plt\n",
    "import numpy as np\n",
    "# xyz坐标内的点\n",
    "xy=tf.placeholder(tf.float32,[None, 2])\n",
    "z=tf.placeholder(tf.float32,[None,1])\n",
    "\n",
    "#初始化 z= w1*x + w2*y + b 中的 w1, w2, b\n",
    "w=tf.Variable(tf.constant([[1],[1]], tf.float32), dtype=tf.float32 , name='w')\n",
    "b=tf.Variable(1.0, dtype=tf.float32 , name='b')\n",
    "\n",
    "# 损失函数\n",
    "loss = tf.reduce_sum(tf.square( z- (tf.matmul(xy , w) + b )))\n",
    "# 创建会话\n",
    "session = tf.Session()\n",
    "session.run(tf.global_variables_initializer())\n",
    "\n",
    "# 梯度下降法\n",
    "opti = tf.train.GradientDescentOptimizer(0.005).minimize(loss)\n",
    "\n",
    "#记录每一次迭代后的平均平方误差\n",
    "MSE=[]\n",
    "\n",
    "#训练数据\n",
    "xy_train=np.array([\n",
    "    [1,1],\n",
    "    [2,1],\n",
    "    [3,2],\n",
    "    [1,2],\n",
    "    [4,5],\n",
    "    [5,8]\n",
    "] ,np.float32)\n",
    "\n",
    "z_train = np.array([\n",
    "    [8],\n",
    "    [12],\n",
    "    [10],\n",
    "    [14],\n",
    "    [28],\n",
    "    [10]\n",
    "] ,np.float32)\n",
    "\n",
    "# 声明一个tf.train.Saver类\n",
    "saver = tf.train.Saver()\n",
    "\n",
    "#训练模型, 500次\n",
    "for i in range(500):\n",
    "    # 梯度下降\n",
    "    session.run(opti,feed_dict={xy:xy_train,z:z_train})\n",
    "    #计算每一次迭代的损失值, 并append到列表中进行保存\n",
    "    MSE.append(session.run(loss,feed_dict={xy:xy_train,z:z_train}))\n",
    "    #每隔100次打印w 和b 的值\n",
    "    if i % 100 == 0:\n",
    "        # 保存模型\n",
    "        saver.save(session, './regression/regressionModel.ckpt', global_step=i)\n",
    "        print('-----\"第\"'+str(i) + '\"次的迭代值\"------')\n",
    "        print(session.run([w,b]))\n",
    "\n",
    "#打印第500次(最后)的迭代值\n",
    "print('-----\"第\"'+str(500) + '\"次的迭代值\"------')\n",
    "print(session.run([w,b]))\n",
    "\n",
    "saver.save(session, './regression/regressionModel.ckpt', global_step=i)\n",
    "\n",
    "# 画出损失函数的值\n",
    "plt.figure(1)\n",
    "plt.plot(MSE)\n",
    "plt.show()"
   ]
  }
 ],
 "metadata": {
  "kernelspec": {
   "display_name": "Python 3",
   "language": "python",
   "name": "python3"
  },
  "language_info": {
   "codemirror_mode": {
    "name": "ipython",
    "version": 3
   },
   "file_extension": ".py",
   "mimetype": "text/x-python",
   "name": "python",
   "nbconvert_exporter": "python",
   "pygments_lexer": "ipython3",
   "version": "3.7.7"
  }
 },
 "nbformat": 4,
 "nbformat_minor": 4
}
