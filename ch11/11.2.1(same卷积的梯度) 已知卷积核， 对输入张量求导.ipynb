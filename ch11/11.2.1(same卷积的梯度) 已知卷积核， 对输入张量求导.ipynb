{
 "cells": [
  {
   "cell_type": "code",
   "execution_count": 2,
   "metadata": {},
   "outputs": [
    {
     "name": "stdout",
     "output_type": "stream",
     "text": [
      "[[[[ -3.]\n",
      "   [ -1.]\n",
      "   [ 13.]]\n",
      "\n",
      "  [[  1.]\n",
      "   [  1.]\n",
      "   [  1.]]\n",
      "\n",
      "  [[  1.]\n",
      "   [  2.]\n",
      "   [-13.]]]]\n"
     ]
    }
   ],
   "source": [
    "import tensorflow as tf\n",
    "#卷积核\n",
    "kernel=tf.constant([\n",
    "    [[[3]] , [[4]]],\n",
    "    [[[5]] , [[6]]]\n",
    "],tf.float32)\n",
    "\n",
    "#某一函数针F对sigma的导数\n",
    "partial_sigma=tf.constant([\n",
    "    [\n",
    "        [[-1],[1],[3]],\n",
    "        [[2],[-2],[-4]],\n",
    "        [[-3],[4],[1]]\n",
    "    ]\n",
    "],tf.float32)\n",
    "\n",
    "#针对未知张量的导数的反向计算\n",
    "partial_x=tf.nn.conv2d_backprop_input((1,3,3,1) , kernel, partial_sigma, [1,1,1,1],'SAME')\n",
    "\n",
    "#创建会话\n",
    "session=tf.Session()\n",
    "print(session.run(partial_x))"
   ]
  }
 ],
 "metadata": {
  "kernelspec": {
   "display_name": "Python 3",
   "language": "python",
   "name": "python3"
  },
  "language_info": {
   "codemirror_mode": {
    "name": "ipython",
    "version": 3
   },
   "file_extension": ".py",
   "mimetype": "text/x-python",
   "name": "python",
   "nbconvert_exporter": "python",
   "pygments_lexer": "ipython3",
   "version": "3.7.7"
  }
 },
 "nbformat": 4,
 "nbformat_minor": 4
}
