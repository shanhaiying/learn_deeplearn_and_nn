{
 "cells": [
  {
   "cell_type": "code",
   "execution_count": 2,
   "metadata": {},
   "outputs": [
    {
     "name": "stdout",
     "output_type": "stream",
     "text": [
      "[[[[ -1.]]\n",
      "\n",
      "  [[-54.]]]\n",
      "\n",
      "\n",
      " [[[-43.]]\n",
      "\n",
      "  [[-77.]]]]\n"
     ]
    }
   ],
   "source": [
    "import tensorflow as tf\n",
    "#输入张量\n",
    "x=tf.constant([\n",
    "    [\n",
    "        [[1],[2],[3]],\n",
    "        [[4],[5],[6]],\n",
    "        [[7],[8],[9]]\n",
    "    ]\n",
    "],tf.float32)\n",
    "\n",
    "#某一个函数F对sigma的导数\n",
    "partial_sigma=tf.constant([\n",
    "    [\n",
    "        [[-1],[-2],[1]],\n",
    "        [[-3],[-4],[2]],\n",
    "        [[-2],[1],[3]],\n",
    "    ]\n",
    "],tf.float32)\n",
    "\n",
    "#某一个函数F对卷积核k的导数\n",
    "partial_sigma_k=tf.nn.conv2d_backprop_filter(x,(2,2,1,1), partial_sigma,[1,1,1,1],'SAME')\n",
    "\n",
    "session=tf.Session()\n",
    "print(session.run(partial_sigma_k))"
   ]
  }
 ],
 "metadata": {
  "kernelspec": {
   "display_name": "Python 3",
   "language": "python",
   "name": "python3"
  },
  "language_info": {
   "codemirror_mode": {
    "name": "ipython",
    "version": 3
   },
   "file_extension": ".py",
   "mimetype": "text/x-python",
   "name": "python",
   "nbconvert_exporter": "python",
   "pygments_lexer": "ipython3",
   "version": "3.7.7"
  }
 },
 "nbformat": 4,
 "nbformat_minor": 4
}
